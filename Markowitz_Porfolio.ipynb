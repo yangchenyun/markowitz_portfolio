{
 "cells": [
  {
   "cell_type": "markdown",
   "metadata": {},
   "source": [
    "# Markowitz’s Porfolio Optimization"
   ]
  },
  {
   "cell_type": "code",
   "execution_count": null,
   "metadata": {},
   "outputs": [],
   "source": [
    "import pandas as pd  \n",
    "import numpy as np\n",
    "import seaborn as sns\n",
    "import scipy.optimize as sco\n",
    "\n",
    "%matplotlib inline\n",
    "%config InlineBackend.figure_format = 'retina'"
   ]
  },
  {
   "cell_type": "code",
   "execution_count": null,
   "metadata": {},
   "outputs": [],
   "source": [
    "# Local modules\n",
    "import data_loader\n",
    "import markowitz\n",
    "\n",
    "# Example\n",
    "# stocks = ['AAPL','AMZN','GOOGL','FB','NFLX','TWTR']\n",
    "\n",
    "stocks = ['DLR', 'MSFT', 'UNH', 'REGN', 'MET', 'OPY',\n",
    "      'BAX', 'LAZ', 'BWA', 'JPM', 'TSLA', 'T', 'BLK',\n",
    "      'RY', 'INFY', 'AMTX', 'SFIX', 'SONY', 'MPNGF',\n",
    "      'BAJFINANCE.NS']\n",
    "\n",
    "# Varialbes \n",
    "INTERVAL = '1d' # interval: [1d,1wk,1mo]\n",
    "num_portfolios = 100000\n",
    "risk_free_rate = 0.0178\n",
    "\n",
    "\n",
    "df = data_loader.from_yf(stocks, '2017-01-01', '2020-12-31', interval=INTERVAL)"
   ]
  },
  {
   "cell_type": "code",
   "execution_count": null,
   "metadata": {},
   "outputs": [],
   "source": [
    "df.info()"
   ]
  },
  {
   "cell_type": "code",
   "execution_count": null,
   "metadata": {},
   "outputs": [],
   "source": [
    "m = markowitz.PorfolioModel(df, INTERVAL)"
   ]
  },
  {
   "cell_type": "code",
   "execution_count": null,
   "metadata": {},
   "outputs": [],
   "source": [
    "m.plot_series()"
   ]
  },
  {
   "cell_type": "code",
   "execution_count": null,
   "metadata": {
    "scrolled": false
   },
   "outputs": [],
   "source": [
    "m.plot_returns()"
   ]
  },
  {
   "cell_type": "markdown",
   "metadata": {},
   "source": [
    "## Approch 1 - Random Portfolios"
   ]
  },
  {
   "cell_type": "code",
   "execution_count": null,
   "metadata": {},
   "outputs": [],
   "source": [
    "m.display_simulated_ef_with_random(num_portfolios, risk_free_rate)"
   ]
  },
  {
   "cell_type": "markdown",
   "metadata": {},
   "source": [
    "## Approch 2 - Efficient Frontier"
   ]
  },
  {
   "cell_type": "code",
   "execution_count": null,
   "metadata": {},
   "outputs": [],
   "source": [
    "m.display_calculated_ef_with_random(num_portfolios, risk_free_rate)"
   ]
  },
  {
   "cell_type": "code",
   "execution_count": null,
   "metadata": {},
   "outputs": [],
   "source": [
    "m.display_ef_with_selected(risk_free_rate)"
   ]
  }
 ],
 "metadata": {
  "kernelspec": {
   "display_name": "Python 3 (ipykernel)",
   "language": "python",
   "name": "python3"
  },
  "language_info": {
   "codemirror_mode": {
    "name": "ipython",
    "version": 3
   },
   "file_extension": ".py",
   "mimetype": "text/x-python",
   "name": "python",
   "nbconvert_exporter": "python",
   "pygments_lexer": "ipython3",
   "version": "3.9.8"
  }
 },
 "nbformat": 4,
 "nbformat_minor": 2
}
